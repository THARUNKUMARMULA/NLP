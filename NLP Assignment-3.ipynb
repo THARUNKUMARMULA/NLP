{
 "cells": [
  {
   "cell_type": "markdown",
   "metadata": {},
   "source": [
    "## 19K41A0576\n",
    "## THARUNKUMAR MULA\n",
    "NLP ASSIGNMENT - 3\n",
    "\n",
    "A paragraph is a series of sentences that are organized and coherent, and are all related to a single topic. Almost every piece of writing you do that is longer than a few sentences should be organized into paragraphs. This is because paragraphs show a reader where the subdivisions of an essay begin and end, and thus help the reader see the organization of the essay and grasp its main points.\n",
    "\n",
    "Paragraphs can contain many different kinds of information. A paragraph could contain a series of brief examples or a single long illustration of a general point. It might describe a place, character, or process; narrate a series of events; compare or contrast two or more things; classify items into categories; or describe causes and effects. Regardless of the kind of information they contain, all paragraphs share certain characteristics. One of the most important of these is a topic sentence.\n",
    "\n",
    "QUESTIONS:\n",
    "1.\tConvert the above paragraph into vectors using:\n",
    "\n",
    "    i)\t Word2vec\n",
    "\n",
    "    ii)\t USE\n",
    "\n",
    "    iii) ELMO\n",
    "\n",
    "    iv)\t GP2\n",
    "\n",
    "    v)\t Sentence-BERT\n",
    "    \n",
    "2.\tFind named entities (NER) for the above paragraph?\n",
    "3.\tFind similar sentences (repeated sentences) from the above paragraph? (Cosine Similarity, use BERT to encode)\n",
    "4.\tExplain POS tagging with HMM? Tag POS for the above paragraph?"
   ]
  },
  {
   "cell_type": "code",
   "execution_count": 1,
   "metadata": {},
   "outputs": [
    {
     "data": {
      "text/plain": [
       "'A paragraph is a series of sentences that are organized and coherent, and are all related to a single topic. Almost every piece of writing you do that is longer than a few sentences should be organized into paragraphs. This is because paragraphs show a reader where the subdivisions of an essay begin and end, and thus help the reader see the organization of the essay and grasp its main points.\\nParagraphs can contain many different kinds of information. A paragraph could contain a series of brief examples or a single long illustration of a general point. It might describe a place, character, or process; narrate a series of events; compare or contrast two or more things; classify items into categories; or describe causes and effects. Regardless of the kind of information they contain, all paragraphs share certain characteristics. One of the most important of these is a topic sentence.\\n'"
      ]
     },
     "execution_count": 1,
     "metadata": {},
     "output_type": "execute_result"
    }
   ],
   "source": [
    "# Assigning the given paragraph to a variable\n",
    "\n",
    "para = '''A paragraph is a series of sentences that are organized and coherent, and are all related to a single topic. Almost every piece of writing you do that is longer than a few sentences should be organized into paragraphs. This is because paragraphs show a reader where the subdivisions of an essay begin and end, and thus help the reader see the organization of the essay and grasp its main points.\n",
    "Paragraphs can contain many different kinds of information. A paragraph could contain a series of brief examples or a single long illustration of a general point. It might describe a place, character, or process; narrate a series of events; compare or contrast two or more things; classify items into categories; or describe causes and effects. Regardless of the kind of information they contain, all paragraphs share certain characteristics. One of the most important of these is a topic sentence.\n",
    "'''\n",
    "para"
   ]
  },
  {
   "cell_type": "markdown",
   "metadata": {},
   "source": [
    "## 1. Converting the paragraph to vectors:"
   ]
  },
  {
   "cell_type": "code",
   "execution_count": 3,
   "metadata": {},
   "outputs": [
    {
     "name": "stderr",
     "output_type": "stream",
     "text": [
      "[nltk_data] Downloading package punkt to\n",
      "[nltk_data]     C:\\Users\\imtha\\AppData\\Roaming\\nltk_data...\n",
      "[nltk_data]   Unzipping tokenizers\\punkt.zip.\n"
     ]
    },
    {
     "data": {
      "text/plain": [
       "True"
      ]
     },
     "execution_count": 3,
     "metadata": {},
     "output_type": "execute_result"
    }
   ],
   "source": [
    "# importing required packages\n",
    "\n",
    "import numpy as np\n",
    "import re\n",
    "import nltk\n",
    "import gensim\n",
    "from nltk.corpus import stopwords\n",
    "from gensim.models import word2vec\n",
    "from nltk.tokenize import PunktSentenceTokenizer\n",
    "nltk.download('punkt')"
   ]
  },
  {
   "cell_type": "code",
   "execution_count": 4,
   "metadata": {},
   "outputs": [
    {
     "data": {
      "text/plain": [
       "['A paragraph is a series of sentences that are organized and coherent, and are all related to a single topic.',\n",
       " 'Almost every piece of writing you do that is longer than a few sentences should be organized into paragraphs.',\n",
       " 'This is because paragraphs show a reader where the subdivisions of an essay begin and end, and thus help the reader see the organization of the essay and grasp its main points.',\n",
       " 'Paragraphs can contain many different kinds of information.',\n",
       " 'A paragraph could contain a series of brief examples or a single long illustration of a general point.',\n",
       " 'It might describe a place, character, or process; narrate a series of events; compare or contrast two or more things; classify items into categories; or describe causes and effects.',\n",
       " 'Regardless of the kind of information they contain, all paragraphs share certain characteristics.',\n",
       " 'One of the most important of these is a topic sentence.']"
      ]
     },
     "execution_count": 4,
     "metadata": {},
     "output_type": "execute_result"
    }
   ],
   "source": [
    "#code to convert paragraph to sentences\n",
    "\n",
    "def essay_to_sentences(paragraph):\n",
    "    tokenizer = nltk.data.load('tokenizers/punkt/english.pickle')\n",
    "    raw_sentences = tokenizer.tokenize(paragraph.strip())\n",
    "    sentences = []\n",
    "    for raw_sentence in raw_sentences:\n",
    "        if len(raw_sentence) > 0:\n",
    "            sentences.append((raw_sentence))\n",
    "    return sentences\n",
    "\n",
    "sentences=essay_to_sentences(para)\n",
    "\n",
    "sentences"
   ]
  },
  {
   "cell_type": "markdown",
   "metadata": {},
   "source": [
    "         i)\tWord2vec : "
   ]
  },
  {
   "cell_type": "code",
   "execution_count": 5,
   "metadata": {},
   "outputs": [
    {
     "name": "stderr",
     "output_type": "stream",
     "text": [
      "[nltk_data] Downloading package stopwords to\n",
      "[nltk_data]     C:\\Users\\imtha\\AppData\\Roaming\\nltk_data...\n",
      "[nltk_data]   Unzipping corpora\\stopwords.zip.\n"
     ]
    },
    {
     "data": {
      "text/plain": [
       "array([ 0.02485378, -0.01514999,  0.02636383,  0.01646451, -0.02047841,\n",
       "        0.01236296,  0.01712385, -0.02317157, -0.02312512, -0.00773493,\n",
       "       -0.02694036, -0.00495505, -0.0012451 ,  0.01029762,  0.0045182 ,\n",
       "       -0.00273751, -0.01748286,  0.00542032, -0.00281335,  0.02125362,\n",
       "        0.01243856,  0.01420104,  0.00452895, -0.00836435, -0.01361344,\n",
       "       -0.00323135,  0.00451567, -0.00832982, -0.02207943, -0.02442455,\n",
       "       -0.02848903, -0.01852525], dtype=float32)"
      ]
     },
     "execution_count": 5,
     "metadata": {},
     "output_type": "execute_result"
    }
   ],
   "source": [
    "# initializing the word2vec model, converting words to vectors and removing stop words\n",
    "\n",
    "wordvecs=[nltk.word_tokenize(s) for s in sentences]\n",
    "from nltk.corpus import stopwords\n",
    "nltk.download('stopwords')\n",
    "stops_words=list(set(stopwords.words(\"english\")))\n",
    "\n",
    "for i in wordvecs:\n",
    "  for j in i:\n",
    "    if j in stops_words:\n",
    "      i.remove(j)\n",
    "    elif len(j)==1:\n",
    "      i.remove(j)\n",
    "\n",
    "model=gensim.models.Word2Vec(wordvecs,min_count=1,vector_size = 32)\n",
    "\n",
    "#printing the converted vector form of word 'organized'\n",
    "\n",
    "model.wv['organized']"
   ]
  },
  {
   "cell_type": "markdown",
   "metadata": {},
   "source": [
    "         ii) USE : "
   ]
  },
  {
   "cell_type": "code",
   "execution_count": 6,
   "metadata": {},
   "outputs": [],
   "source": [
    "# importing the USE Model\n",
    "\n",
    "import tensorflow_hub as hub\n",
    "vect=hub.load(\"https://tfhub.dev/google/universal-sentence-encoder/4\")\n",
    "#converting to vectors\n",
    "res_vectors=vect(sentences)\n",
    "print(res_vectors)"
   ]
  },
  {
   "cell_type": "code",
   "execution_count": 6,
   "metadata": {},
   "outputs": [
    {
     "name": "stdout",
     "output_type": "stream",
     "text": [
      "shape=  (512,)\n",
      "The sentence:  A paragraph is a series of sentences that are organized and coherent, and are all related to a single topic. \n",
      " is converted as : \n",
      "[ 1.16849458e-02 -3.06057278e-02  6.11633435e-02  8.47723782e-02\n",
      " -5.83404489e-03  2.84160534e-03  2.59479415e-02  3.90260760e-03\n",
      " -5.55586219e-02  5.68111092e-02 -8.95013846e-03 -4.50470019e-03\n",
      " -6.06310405e-02  3.18566449e-02 -6.86047748e-02 -9.39451605e-02\n",
      " -4.23613600e-02  3.93057093e-02 -9.02280509e-02 -5.53664155e-02\n",
      " -1.92777102e-03  5.99909872e-02  9.42120329e-03  6.07980080e-02\n",
      " -5.22597972e-03  1.28727937e-02 -2.15456765e-02 -4.93354276e-02\n",
      " -6.26523906e-05 -4.05308753e-02  7.90260956e-02 -5.32253785e-03\n",
      " -2.70439405e-03 -1.01282829e-02 -6.41689226e-02  2.35940628e-02\n",
      "  4.94743213e-02  1.76912602e-02 -7.69228116e-03  2.03443449e-02\n",
      "  1.55387605e-02  4.64376099e-02  3.61865386e-02  4.38465327e-02\n",
      "  6.95741400e-02  2.37604603e-02 -1.20335445e-03 -4.55583669e-02\n",
      " -3.44719440e-02  1.63743515e-02 -2.70779594e-03  5.60244322e-02\n",
      "  4.04611521e-04 -1.96648873e-02 -3.91405076e-02 -9.61554702e-03\n",
      "  2.14326777e-03  5.61527051e-02  2.82766894e-02  1.80720389e-02\n",
      "  1.23768346e-03 -3.25147957e-02  4.19939719e-02  6.37653470e-02\n",
      "  5.56223281e-02  1.44277085e-02  4.99183126e-02 -1.93575434e-02\n",
      "  5.64282760e-02 -6.90749958e-02  1.60084409e-03  2.10034288e-02\n",
      "  3.52526978e-02  6.35948032e-02 -7.65628368e-02  5.87279536e-02\n",
      " -4.10689227e-02  3.31177749e-02 -2.83572753e-03  7.48986378e-03\n",
      " -3.19784097e-02 -6.25580698e-02  4.89425212e-02  3.36479992e-02\n",
      "  2.12714821e-02  4.28448943e-03 -9.05704510e-04 -4.36472334e-03\n",
      " -9.23611596e-02 -3.89574021e-02  3.30829173e-02  9.61312652e-03\n",
      "  2.15857401e-02 -1.47692626e-02  1.38847427e-02  8.47374648e-02\n",
      " -8.47435817e-02 -4.44485210e-02  7.54610747e-02  1.65129565e-02\n",
      "  2.31740288e-02 -2.84717120e-02 -6.77682757e-02  4.24248539e-02\n",
      " -1.49503713e-02  8.38016998e-03  5.18886223e-02  3.92066464e-02\n",
      " -4.66535576e-02 -2.45939121e-02  7.14557304e-04 -3.46494420e-03\n",
      "  2.36652363e-02  3.31293717e-02 -5.71686076e-03  4.09858935e-02\n",
      " -8.35536197e-02 -1.66684501e-02 -3.52721219e-03  1.73547994e-02\n",
      "  2.53550671e-02 -2.66782828e-02 -2.51310170e-02 -4.68712449e-02\n",
      "  3.96435633e-02 -6.68356521e-03 -3.46517712e-02 -2.81814728e-02\n",
      "  4.19962555e-02 -3.24101485e-02  2.40438599e-02 -5.47123700e-03\n",
      "  2.89680064e-02  6.99753240e-02  3.75228785e-02 -8.82184133e-02\n",
      "  6.07020035e-03 -6.91123456e-02 -1.74329523e-02  2.53294278e-02\n",
      " -7.28369802e-02  2.37329360e-02  4.66295667e-02  4.23278436e-02\n",
      "  5.21277077e-02 -3.55557655e-03 -1.40108075e-02  2.05670912e-02\n",
      "  7.19133019e-02 -7.66954273e-02 -3.90845165e-02 -6.40899688e-02\n",
      "  2.43547019e-02  7.42070973e-02  2.84558274e-02 -7.93435350e-02\n",
      " -1.47222318e-02  6.70734467e-03  1.02058491e-02  1.25844330e-02\n",
      "  3.10074389e-02 -4.17215191e-02  6.03259280e-02  6.22179732e-02\n",
      "  2.10033003e-02 -1.65604539e-02  4.09300346e-03 -3.35808434e-02\n",
      "  7.28031620e-02  6.09729104e-02  4.15964890e-03  8.54913518e-02\n",
      "  1.31301256e-02 -6.34361245e-03 -5.07236235e-02  7.03543648e-02\n",
      "  3.73295583e-02  3.42008360e-02 -3.79248268e-05 -6.27389550e-02\n",
      "  4.80309054e-02 -2.81623509e-02 -7.19844997e-02  1.20989718e-02\n",
      " -4.26682010e-02  1.97790917e-02 -1.35227842e-02 -5.43040968e-02\n",
      " -4.83289845e-02 -2.65408624e-02  8.23442042e-02  5.54602630e-02\n",
      "  7.81148672e-02 -4.00116853e-03  2.02439539e-02  1.84899941e-02\n",
      " -1.52465599e-02  2.18962692e-02  3.17285061e-02  7.06312284e-02\n",
      "  3.70560563e-03  2.40870751e-02  1.94733054e-03 -7.16166710e-03\n",
      " -2.68035140e-02  3.17232199e-02  8.41563120e-02  2.63580196e-02\n",
      " -2.52104383e-02 -1.10670812e-02 -5.61277159e-02  3.97370793e-02\n",
      " -5.51151633e-02  6.12288862e-02  5.18368483e-02 -1.64934285e-02\n",
      "  1.84758427e-03  6.83429092e-02  6.94626197e-02  3.78927290e-02\n",
      " -5.02522737e-02 -2.57219505e-02  7.02317059e-02  3.36491764e-02\n",
      "  5.98841754e-04 -3.67770158e-02  4.44350168e-02  1.09023601e-02\n",
      "  4.34661657e-02 -6.98098689e-02 -2.62660272e-02  2.23396756e-02\n",
      "  9.15533863e-03 -6.15917593e-02  8.41568559e-02  3.92306298e-02\n",
      "  8.92866999e-02  1.28771123e-02  1.39245298e-02 -5.68395145e-02\n",
      " -7.46639147e-02  3.65591757e-02  1.06103579e-02 -6.25316724e-02\n",
      "  1.77653581e-02 -6.67558089e-02 -6.54299483e-02  4.47695516e-02\n",
      " -2.96408050e-02 -2.13828031e-02  3.60825062e-02 -8.18173364e-02\n",
      " -1.40964836e-02  1.33901089e-02  3.07124369e-02 -9.41405743e-02\n",
      "  3.03545389e-02 -2.68576313e-02  1.81658138e-02 -3.67770493e-02\n",
      "  3.33085358e-02  9.13278088e-02 -1.94911379e-02 -1.07954647e-02\n",
      " -9.28004086e-03 -4.06912249e-03  1.46724600e-02 -4.92432751e-02\n",
      "  1.71533749e-02 -5.45221753e-02 -6.61363974e-02 -7.90792108e-02\n",
      "  2.79751904e-02  3.62354219e-02  4.38262187e-02  1.96567923e-02\n",
      " -6.87819943e-02  2.44918950e-02  7.10261613e-02  9.12545249e-02\n",
      "  6.29523173e-02  1.67941265e-02  6.54826015e-02 -4.73536970e-03\n",
      " -4.48028259e-02 -1.61742866e-02  2.20355596e-02 -4.16113324e-02\n",
      "  1.13562522e-02 -3.63932028e-02 -2.76283957e-02  2.01357417e-02\n",
      " -8.22386369e-02 -2.58973278e-02 -4.15527374e-02 -5.79356328e-02\n",
      "  7.72937154e-03  4.06588838e-02 -1.13817761e-02  4.38650399e-02\n",
      " -1.07140932e-02 -4.62955050e-02  5.65050766e-02 -6.18267767e-02\n",
      " -3.84526588e-02 -4.90092300e-02  5.23114391e-02 -5.73057868e-02\n",
      " -1.15798237e-02  5.35166543e-03  2.78308764e-02 -4.59580943e-02\n",
      "  4.34778482e-02 -1.71735827e-02 -1.64880138e-02 -3.88848707e-02\n",
      " -6.44621020e-03  8.33479539e-02  3.65923420e-02  2.13971939e-02\n",
      " -2.59777848e-02 -6.10677861e-02  5.17178774e-02 -5.09534813e-02\n",
      " -8.41620862e-02 -2.87301615e-02 -8.05718526e-02  7.76726529e-02\n",
      "  4.12432067e-02 -3.67930308e-02  2.71156467e-02 -6.33788854e-02\n",
      "  2.25471370e-02 -3.28406058e-02 -9.11884196e-03  5.93739934e-02\n",
      " -7.64807640e-03  8.31473060e-03 -6.06926903e-03  6.88906759e-02\n",
      "  5.30840643e-02 -3.67050339e-03 -2.88560838e-02 -4.73021828e-02\n",
      " -9.18376222e-02 -8.83616600e-03  7.96945319e-02  5.93198985e-02\n",
      "  3.53018977e-02  7.12430850e-03 -7.07041547e-02  1.53526273e-02\n",
      "  4.09509577e-02  7.17415521e-03  7.37813339e-02  3.77231091e-02\n",
      " -9.00578946e-02 -3.24093699e-02  1.16494270e-02 -3.81785892e-02\n",
      "  2.34411713e-02 -2.10632738e-02 -7.03862160e-02  1.52056199e-03\n",
      " -1.61061957e-02  6.18526787e-02  7.94101954e-02  5.88113163e-03\n",
      " -1.51091311e-02 -3.21430080e-02  7.52920192e-03 -1.46266201e-03\n",
      "  6.74486384e-02  8.21412206e-02  1.35811577e-02  1.83010492e-02\n",
      "  3.14529650e-02  3.24921310e-02 -1.57692023e-02 -4.33157794e-02\n",
      " -4.35552076e-02 -1.21416925e-02  3.53560969e-03  4.30949926e-02\n",
      " -2.73922943e-02  2.91704405e-02 -8.02248940e-02 -2.86437869e-02\n",
      " -1.37747284e-02 -3.15168723e-02 -1.11740995e-02 -2.86995787e-02\n",
      " -3.92324328e-02  5.84819242e-02  5.46792476e-03 -2.98926160e-02\n",
      "  5.75807923e-03 -1.14696817e-02 -1.36440890e-02  2.66201049e-02\n",
      "  2.02788971e-03  3.45309973e-02 -5.55947274e-02  4.45481166e-02\n",
      "  7.75338756e-03  3.83887701e-02 -3.04163881e-02 -3.68546434e-02\n",
      " -5.83012365e-02  4.55890149e-02  4.12782207e-02 -2.69910414e-02\n",
      "  6.76821545e-02 -4.02726606e-02 -1.81559436e-02 -3.41260321e-02\n",
      "  5.10257110e-02  1.71381589e-02 -4.04661475e-03 -5.73980324e-02\n",
      "  1.24875801e-02 -6.49295226e-02 -7.56197721e-02  1.49736749e-02\n",
      "  2.50920337e-02  6.72385022e-02  5.28012924e-02  9.06193629e-02\n",
      " -5.04058599e-02  4.25336212e-02  2.04153024e-02 -6.48180721e-03\n",
      "  2.96379067e-02  4.65666642e-03 -4.00494039e-02 -5.69047742e-02\n",
      " -1.83908325e-02  2.06823181e-02  3.54514010e-02 -9.10554230e-02\n",
      " -2.56894790e-02  8.05327669e-02 -6.87960386e-02 -1.90876499e-02\n",
      " -4.92983323e-04 -1.21406950e-02 -8.38929880e-03  8.40042531e-03\n",
      "  7.14359432e-02 -1.60705745e-02  5.72944656e-02  3.03891883e-03\n",
      " -6.78497702e-02 -6.15831390e-02  7.88365304e-02 -6.56958297e-02\n",
      "  4.85723317e-02  6.67115822e-02  8.34890828e-02 -5.98137639e-02\n",
      " -1.69116668e-02  8.24893638e-02 -6.09519705e-03 -3.53485383e-02\n",
      " -2.27540974e-02 -9.13803428e-02 -4.53933813e-02 -8.25899281e-03\n",
      "  4.79642898e-02  7.68054500e-02 -3.04625090e-02 -1.50704710e-02\n",
      " -2.30549872e-02 -8.25553481e-03 -6.91696675e-03 -4.25872568e-04\n",
      "  3.37524191e-02 -2.74846349e-02 -9.42038465e-03 -6.28642831e-03\n",
      " -2.22889055e-02 -1.39351841e-02  6.23976486e-03 -8.72642845e-02\n",
      "  1.45548359e-02 -8.02355111e-02 -3.33043076e-02 -5.46392426e-02\n",
      "  4.86492924e-02  2.14733053e-02  3.27530056e-02 -1.53551046e-02\n",
      "  5.31828701e-02  1.56334918e-02  3.91776785e-02  6.98065711e-03\n",
      " -3.86222601e-02 -2.99131256e-02  1.69515200e-02  5.10435626e-02\n",
      "  3.60743552e-02 -5.03288172e-02  5.67543656e-02  7.83906430e-02\n",
      "  6.19171262e-02 -1.52612152e-02 -1.87837500e-02 -3.86124104e-02\n",
      "  6.28505498e-02 -8.64175409e-02  2.50498822e-04  5.48274964e-02]\n"
     ]
    }
   ],
   "source": [
    "print(\"shape= \",res_vectors[0].shape)\n",
    "\n",
    "#each sentence is converted into vector having 512 values\n",
    "\n",
    "print(\"The sentence: \",sentences[0],\"\\n is converted as : \\n{}\".format(res_vectors[0]))"
   ]
  },
  {
   "cell_type": "markdown",
   "metadata": {},
   "source": [
    "        iii) ELMO"
   ]
  },
  {
   "cell_type": "code",
   "execution_count": 7,
   "metadata": {},
   "outputs": [
    {
     "name": "stdout",
     "output_type": "stream",
     "text": [
      "INFO:tensorflow:Saver not created because there are no variables in the graph to restore\n"
     ]
    },
    {
     "name": "stderr",
     "output_type": "stream",
     "text": [
      "INFO:tensorflow:Saver not created because there are no variables in the graph to restore\n"
     ]
    },
    {
     "name": "stdout",
     "output_type": "stream",
     "text": [
      "WARNING:tensorflow:From c:\\Users\\raami\\AppData\\Local\\Programs\\Python\\Python38\\lib\\site-packages\\tensorflow\\python\\util\\tf_should_use.py:243: initialize_all_variables (from tensorflow.python.ops.variables) is deprecated and will be removed after 2017-03-02.\n",
      "Instructions for updating:\n",
      "Use `tf.global_variables_initializer` instead.\n"
     ]
    },
    {
     "name": "stderr",
     "output_type": "stream",
     "text": [
      "WARNING:tensorflow:From c:\\Users\\raami\\AppData\\Local\\Programs\\Python\\Python38\\lib\\site-packages\\tensorflow\\python\\util\\tf_should_use.py:243: initialize_all_variables (from tensorflow.python.ops.variables) is deprecated and will be removed after 2017-03-02.\n",
      "Instructions for updating:\n",
      "Use `tf.global_variables_initializer` instead.\n"
     ]
    },
    {
     "name": "stdout",
     "output_type": "stream",
     "text": [
      "\n",
      "\n",
      "\n",
      "[[ 0.2928701  -0.14378005 -0.32574072 ... -0.39559263 -0.3575883\n",
      "  -0.03588069]\n",
      " [-0.594416    0.09640734  0.5053766  ...  0.220319    0.26976916\n",
      "   0.46307254]\n",
      " [-0.17083266 -0.1874412  -0.2762671  ... -0.6755089   0.25390014\n",
      "   0.6540269 ]\n",
      " ...\n",
      " [-0.0284084  -0.04353216  0.04130162 ...  0.02583168 -0.01429836\n",
      "  -0.01650422]\n",
      " [-0.0284084  -0.04353216  0.04130162 ...  0.02583168 -0.01429836\n",
      "  -0.01650422]\n",
      " [-0.0284084  -0.04353216  0.04130162 ...  0.02583168 -0.01429836\n",
      "  -0.01650422]]\n",
      "shape= (32, 1024)\n"
     ]
    }
   ],
   "source": [
    "# importing the ELMO Model\n",
    "\n",
    "import tensorflow_hub as hub\n",
    "import tensorflow.compat.v1 as tf\n",
    "tf.disable_eager_execution()\n",
    "#1024 sized vectors\n",
    "elmo=hub.Module(\"https://tfhub.dev/google/elmo/3\",trainable=True)\n",
    "embeddings=elmo(\n",
    "    sentences,\n",
    "    signature=\"default\",\n",
    "    as_dict=True)[\"elmo\"]\n",
    "init=tf.initialize_all_variables()\n",
    "sess=tf.Session()\n",
    "sess.run(init)\n",
    "print(\"\\n\\n\")\n",
    "print(sess.run(embeddings[0]))\n",
    "print(\"shape=\",embeddings[0].shape)"
   ]
  },
  {
   "cell_type": "markdown",
   "metadata": {},
   "source": [
    "         iv) GP2"
   ]
  },
  {
   "cell_type": "code",
   "execution_count": 8,
   "metadata": {},
   "outputs": [
    {
     "name": "stderr",
     "output_type": "stream",
     "text": [
      "c:\\Users\\raami\\AppData\\Local\\Programs\\Python\\Python38\\lib\\site-packages\\tqdm\\auto.py:22: TqdmWarning: IProgress not found. Please update jupyter and ipywidgets. See https://ipywidgets.readthedocs.io/en/stable/user_install.html\n",
      "  from .autonotebook import tqdm as notebook_tqdm\n"
     ]
    },
    {
     "name": "stdout",
     "output_type": "stream",
     "text": [
      "shape= torch.Size([1, 173])\n"
     ]
    },
    {
     "data": {
      "text/plain": [
       "tensor([[   32,  7322,   318,   257,  2168,   286, 13439,   326,   389,  8389,\n",
       "           290, 24870,    11,   290,   389,   477,  3519,   284,   257,  2060,\n",
       "          7243,    13, 16699,   790,  3704,   286,  3597,   345,   466,   326,\n",
       "           318,  2392,   621,   257,  1178, 13439,   815,   307,  8389,   656,\n",
       "         23549,    13,   770,   318,   780, 23549,   905,   257,  9173,   810,\n",
       "           262, 45944,  3279,   286,   281, 14268,  2221,   290,   886,    11,\n",
       "           290,  4145,  1037,   262,  9173,   766,   262,  4009,   286,   262,\n",
       "         14268,   290, 13180,   663,  1388,  2173,    13,   198, 10044,  6111,\n",
       "            82,   460,  3994,   867,  1180,  6982,   286,  1321,    13,   317,\n",
       "          7322,   714,  3994,   257,  2168,   286,  4506,  6096,   393,   257,\n",
       "          2060,   890, 20936,   286,   257,  2276,   966,    13,   632,  1244,\n",
       "          6901,   257,  1295,    11,  2095,    11,   393,  1429,    26,  6664,\n",
       "           378,   257,  2168,   286,  2995,    26,  8996,   393,  6273,   734,\n",
       "           393,   517,  1243,    26, 36509,  3709,   656,  9376,    26,   393,\n",
       "          6901,  5640,   290,  3048,    13, 22250,   286,   262,  1611,   286,\n",
       "          1321,   484,  3994,    11,   477, 23549,  2648,  1728,  9695,    13,\n",
       "          1881,   286,   262,   749,  1593,   286,   777,   318,   257,  7243,\n",
       "          6827,    13,   198]])"
      ]
     },
     "execution_count": 8,
     "metadata": {},
     "output_type": "execute_result"
    }
   ],
   "source": [
    "#importing the GP2 Model\n",
    "\n",
    "import transformers\n",
    "gptokenizer=transformers.GPT2Tokenizer.from_pretrained('gpt2-large')\n",
    "model=transformers.GPT2LMHeadModel.from_pretrained('gpt2-large')\n",
    "res_vectors=gptokenizer.encode(para,add_special_tokens=False,return_tensors=\"pt\")\n",
    "print(\"shape=\",res_vectors.shape)\n",
    "res_vectors"
   ]
  },
  {
   "cell_type": "markdown",
   "metadata": {},
   "source": [
    "         v) Sentence-BERT"
   ]
  },
  {
   "cell_type": "code",
   "execution_count": 9,
   "metadata": {},
   "outputs": [
    {
     "name": "stdout",
     "output_type": "stream",
     "text": [
      "WARNING:tensorflow:Please fix your imports. Module tensorflow.python.training.tracking.data_structures has been moved to tensorflow.python.trackable.data_structures. The old module will be deleted in version 2.11.\n"
     ]
    },
    {
     "name": "stderr",
     "output_type": "stream",
     "text": [
      "WARNING:tensorflow:Please fix your imports. Module tensorflow.python.training.tracking.data_structures has been moved to tensorflow.python.trackable.data_structures. The old module will be deleted in version 2.11.\n"
     ]
    },
    {
     "name": "stdout",
     "output_type": "stream",
     "text": [
      "Tensor(\"keras_layer/StatefulPartitionedCall:0\", shape=(None, 128), dtype=float32)\n"
     ]
    }
   ],
   "source": [
    "#importing sentencebert model\n",
    "\n",
    "bert = hub.KerasLayer(\"https://tfhub.dev/google/nnlm-en-dim128/2\")\n",
    "embeddings=bert(sentences)\n",
    "print(embeddings)"
   ]
  },
  {
   "cell_type": "code",
   "execution_count": 10,
   "metadata": {},
   "outputs": [
    {
     "name": "stdout",
     "output_type": "stream",
     "text": [
      "shape= (128,)\n",
      "The sentence in the paragraph:  A paragraph is a series of sentences that are organized and coherent, and are all related to a single topic. \n",
      " is converted into vector  as : \n",
      "Tensor(\"strided_slice_3:0\", shape=(128,), dtype=float32)\n"
     ]
    }
   ],
   "source": [
    "print(\"shape=\",embeddings[0].shape)\n",
    "#each sentence is converted into vector having 128 values\n",
    "print(\"The sentence in the paragraph: \",sentences[0],\"\\n is converted into vector  as : \\n{}\".format(embeddings[0]))\n",
    "shape= (128,)"
   ]
  },
  {
   "cell_type": "markdown",
   "metadata": {},
   "source": [
    "## 2. Find named entities (NER) for the above paragraph?"
   ]
  },
  {
   "cell_type": "code",
   "execution_count": 11,
   "metadata": {},
   "outputs": [
    {
     "name": "stdout",
     "output_type": "stream",
     "text": [
      "two CARDINAL\n",
      "One CARDINAL\n"
     ]
    }
   ],
   "source": [
    "import spacy\n",
    "from spacy import displacy\n",
    "ner=spacy.load('en_core_web_sm')\n",
    "res=ner(para)\n",
    "\n",
    "for word in res.ents:\n",
    "  print(word.text,word.label_)"
   ]
  },
  {
   "cell_type": "code",
   "execution_count": 12,
   "metadata": {},
   "outputs": [
    {
     "data": {
      "text/plain": [
       "'Countries, cities, states'"
      ]
     },
     "execution_count": 12,
     "metadata": {},
     "output_type": "execute_result"
    }
   ],
   "source": [
    "spacy.explain('GPE')"
   ]
  },
  {
   "cell_type": "code",
   "execution_count": 13,
   "metadata": {},
   "outputs": [
    {
     "data": {
      "text/html": [
       "<span class=\"tex2jax_ignore\"><div class=\"entities\" style=\"line-height: 2.5; direction: ltr\">A paragraph is a series of sentences that are organized and coherent, and are all related to a single topic. Almost every piece of writing you do that is longer than a few sentences should be organized into paragraphs. This is because paragraphs show a reader where the subdivisions of an essay begin and end, and thus help the reader see the organization of the essay and grasp its main points.</br>Paragraphs can contain many different kinds of information. A paragraph could contain a series of brief examples or a single long illustration of a general point. It might describe a place, character, or process; narrate a series of events; compare or contrast \n",
       "<mark class=\"entity\" style=\"background: #e4e7d2; padding: 0.45em 0.6em; margin: 0 0.25em; line-height: 1; border-radius: 0.35em;\">\n",
       "    two\n",
       "    <span style=\"font-size: 0.8em; font-weight: bold; line-height: 1; border-radius: 0.35em; vertical-align: middle; margin-left: 0.5rem\">CARDINAL</span>\n",
       "</mark>\n",
       " or more things; classify items into categories; or describe causes and effects. Regardless of the kind of information they contain, all paragraphs share certain characteristics. \n",
       "<mark class=\"entity\" style=\"background: #e4e7d2; padding: 0.45em 0.6em; margin: 0 0.25em; line-height: 1; border-radius: 0.35em;\">\n",
       "    One\n",
       "    <span style=\"font-size: 0.8em; font-weight: bold; line-height: 1; border-radius: 0.35em; vertical-align: middle; margin-left: 0.5rem\">CARDINAL</span>\n",
       "</mark>\n",
       " of the most important of these is a topic sentence.</br></div></span>"
      ],
      "text/plain": [
       "<IPython.core.display.HTML object>"
      ]
     },
     "metadata": {},
     "output_type": "display_data"
    }
   ],
   "source": [
    "#better visualisation of entity recognition\n",
    "displacy.render(res,style=\"ent\",jupyter=True)"
   ]
  },
  {
   "cell_type": "markdown",
   "metadata": {},
   "source": [
    "## 3.\tFind similar sentences (repeated sentences) from the above paragraph? (Cosine Similarity, use BERT to encode)"
   ]
  },
  {
   "cell_type": "code",
   "execution_count": 14,
   "metadata": {},
   "outputs": [],
   "source": [
    "from sentence_transformers import SentenceTransformer\n",
    "sbert_model = SentenceTransformer('bert-base-nli-mean-tokens')"
   ]
  },
  {
   "cell_type": "code",
   "execution_count": 15,
   "metadata": {},
   "outputs": [
    {
     "name": "stdout",
     "output_type": "stream",
     "text": [
      "Sentence1 = A paragraph is a series of sentences that are organized and coherent, and are all related to a single topic. \n",
      " \n",
      "Sentence2= A paragraph is a series of sentences that are organized and coherent, and are all related to a single topic. \n",
      "\n",
      "similarity =  1.0000001\n",
      " ----------------------------- \n",
      "Sentence1 = A paragraph is a series of sentences that are organized and coherent, and are all related to a single topic. \n",
      " \n",
      "Sentence2= Almost every piece of writing you do that is longer than a few sentences should be organized into paragraphs. \n",
      "\n",
      "similarity =  0.6477538\n",
      " ----------------------------- \n",
      "Sentence1 = A paragraph is a series of sentences that are organized and coherent, and are all related to a single topic. \n",
      " \n",
      "Sentence2= A paragraph could contain a series of brief examples or a single long illustration of a general point. \n",
      "\n",
      "similarity =  0.6927289\n",
      " ----------------------------- \n",
      "Sentence1 = A paragraph is a series of sentences that are organized and coherent, and are all related to a single topic. \n",
      " \n",
      "Sentence2= Regardless of the kind of information they contain, all paragraphs share certain characteristics. \n",
      "\n",
      "similarity =  0.7873839\n",
      " ----------------------------- \n"
     ]
    }
   ],
   "source": [
    "# using BERT to Encode\n",
    "se_embeddings = sbert_model.encode(sentences)\n",
    "q1_vec= sbert_model.encode(sentences[0])\n",
    "\n",
    "#cosine similarity function\n",
    "#identifies similarity between 2 sentences\n",
    "def cosine(u, v):\n",
    "    return np.dot(u, v) / (np.linalg.norm(u) * np.linalg.norm(v))\n",
    "\n",
    "for sent in sentences:\n",
    "  sim = cosine(q1_vec, sbert_model.encode([sent])[0])\n",
    "  #if similarity ==1 => repeated sentence\n",
    "  #if similarity > 0.6 => similar sentence\n",
    "  if sim>0.6:\n",
    "    print(\"Sentence1 =\",sentences[0],\"\\n \\nSentence2=\", sent, \"\\n\\nsimilarity = \", sim,end=\"\\n ----------------------------- \\n\")"
   ]
  },
  {
   "cell_type": "markdown",
   "metadata": {},
   "source": [
    "4.\tExplain POS tagging with HMM? Tag POS for the above paragraph?"
   ]
  },
  {
   "cell_type": "markdown",
   "metadata": {},
   "source": [
    "POS Tagging with HMM"
   ]
  },
  {
   "cell_type": "markdown",
   "metadata": {},
   "source": [
    "Parts of Speech Tagging (POS): It is a process of converting a sentence to forms – list of words, list of tuples (where each tuple is having a form (word, tag)). The tag in case of is a part-of-speech tag, and signifies whether the word is a noun, adjective, verb, and so on. reading a sentence and being able to identify what words act as nouns, pronouns, verbs, adverbs, and so on. All these are referred to as the part of speech tags. According to Wikipedia, part-of-speech tagging (POS tagging or PoS tagging or POST), also called grammatical tagging or word-category disambiguation, is the process of marking up a word in a text as corresponding to a particular part of speech, based on both its definition and its context i.e. its relationship with adjacent and related words in a phrase, sentence, or paragraph.\n",
    "\n",
    "![Getting Started](1.png)\n",
    "\n"
   ]
  },
  {
   "cell_type": "markdown",
   "metadata": {},
   "source": [
    "Default tagging is a basic step for the part-of-speech tagging. It is performed using the DefaultTagger class. The DefaultTagger class takes ‘tag’ as a single argument. NN is the tag for a singular noun. DefaultTagger is most useful when it gets to work with most common part-of-speech tag. that’s why a noun tag is recommended.\n",
    "\n",
    "![Getting Started](2.png)\n"
   ]
  },
  {
   "cell_type": "markdown",
   "metadata": {},
   "source": [
    "POS tagging with Hidden Markov Model HMM (Hidden Markov Model) is a Stochastic technique for POS tagging. Hidden Markov models are known for their applications to reinforcement learning and temporal pattern recognition such as speech, handwriting, gesture recognition, musical score following, partial discharges, and bioinformatics.\n",
    "Let us consider an example proposed by Dr.Luis Serrano and find out how HMM selects an appropriate tag sequence for a sentence.\n",
    "\n",
    "![Getting Started](3.png)\n"
   ]
  },
  {
   "cell_type": "markdown",
   "metadata": {},
   "source": [
    "In this example, we consider only 3 POS tags that are noun, model and verb. Let the sentence “ Ted will spot Will ” be tagged as noun, model, verb and a noun and to calculate the probability associated with this particular sequence of tags we require their Transition probability and Emission probability.\n",
    "\n",
    "The transition probability is the likelihood of a particular sequence for example, how likely is that a noun is followed by a model and a model by a verb and a verb by a noun. This probability is known as Transition probability. It should be high for a particular sequence to be correct.\n",
    "\n",
    "Now, what is the probability that the word Ted is a noun, will is a model, spot is a verb and Will is a noun. These sets of probabilities are Emission probabilities and should be high for our tagging to be likely.\n",
    "\n",
    "Let us calculate the above two probabilities for the set of sentences below\n",
    "\n",
    "Mary Jane can see Will Spot will see Mary Will Jane spot Mary? Mary will pat Spot Note that Mary Jane, Spot, and Will are all names.\n",
    "\n",
    "In the above figure, we can see that the < S > tag is followed by the N tag three times, thus the first entry is 3.The model tag follows the < S > just once, thus the second entry is 1. In a similar manner, the rest of the table is filled.\n",
    "\n",
    "Next, we divide each term in a row of the table by the total number of co-occurrences of the tag in consideration, for example, The Model tag is followed by any other tags four times (in total) as shown below, thus we divide each element in the third row by four.\n",
    "\n",
    "the table is refined as below:\n",
    "\n",
    "![Getting Started](4.png)\n"
   ]
  },
  {
   "cell_type": "markdown",
   "metadata": {},
   "source": [
    "Calculating the product of these terms we get,\n",
    "\n",
    "3/41/93/91/43/41/414/94/9=0.00025720164\n",
    "\n",
    "For our example, keeping into consideration just three POS tags we have mentioned, 81 different combinations of tags can be formed. In this case, calculating the probabilities of all 81 combinations seems achievable. But when the task is to tag a larger sentence and all the POS tags in the Penn Treebank project are taken into consideration, the number of possible combinations grows exponentially and this task seems impossible to achieve. Now let us visualize these 81 combinations as paths and using the transition and emission probability mark each vertex and edge as shown below.\n",
    "\n",
    "![Getting Started](5.png)"
   ]
  },
  {
   "cell_type": "markdown",
   "metadata": {},
   "source": [
    "Now there are only two paths that lead to the end, let us calculate the probability associated with each path.\n",
    "\n",
    "s→N→M→N→N→ E =3/41/93/91/41/42/91/94/94/9=0.00000846754\n",
    "\n",
    "s→N→M→N→V→E=3/41/93/91/43/41/414/94/9=0.00025720164\n",
    "\n",
    "Clearly, the probability of the second sequence is much higher and hence the HMM is going to tag each word in the sentence according to this sequence."
   ]
  },
  {
   "cell_type": "code",
   "execution_count": 16,
   "metadata": {},
   "outputs": [
    {
     "name": "stdout",
     "output_type": "stream",
     "text": [
      "[('A', 'DT'), ('paragraph', 'NN'), ('series', 'NN'), ('sentences', 'NNS'), ('organized', 'VBN'), ('coherent', 'NN'), (',', ','), ('related', 'VBN'), ('single', 'JJ'), ('topic.Almost', 'NN'), ('every', 'DT'), ('piece', 'NN'), ('writing', 'VBG'), ('longer', 'JJR'), ('sentences', 'NNS'), ('organized', 'VBD'), ('paragraphs.This', 'NN'), ('paragraphs', 'NN'), ('show', 'NN'), ('reader', 'NN'), ('subdivisions', 'NNS'), ('essay', 'VBP'), ('begin', 'JJ'), ('end', 'NN'), (',', ','), ('thus', 'RB'), ('help', 'NN'), ('reader', 'VB'), ('see', 'VB'), ('organization', 'NN'), ('essay', 'VB'), ('grasp', 'NN'), ('main', 'JJ'), ('points.Paragraphs', 'NN'), ('contain', 'VBP'), ('many', 'JJ'), ('different', 'JJ'), ('kinds', 'NNS'), ('information.A', 'VBP'), ('paragraph', 'NN'), ('could', 'MD'), ('contain', 'VB'), ('series', 'NN'), ('brief', 'NN'), ('examples', 'VBZ'), ('single', 'JJ'), ('long', 'JJ'), ('illustration', 'NN'), ('general', 'JJ'), ('point.It', 'NN'), ('might', 'MD'), ('describe', 'VB'), ('place', 'NN'), (',', ','), ('character', 'NN'), (',', ','), ('process', 'NN'), (';', ':'), ('narrate', 'JJ'), ('series', 'NN'), ('events', 'NNS'), (';', ':'), ('compare', 'VB'), ('contrast', 'NN'), ('two', 'CD'), ('things', 'NNS'), (';', ':'), ('classify', 'VB'), ('items', 'NNS'), ('categories', 'NNS'), (';', ':'), ('describe', 'VB'), ('causes', 'VBZ'), ('effects.Regardless', 'JJ'), ('kind', 'NN'), ('information', 'NN'), ('contain', 'NN'), (',', ','), ('paragraphs', 'JJ'), ('share', 'NN'), ('certain', 'JJ'), ('characteristics.One', 'NN'), ('important', 'JJ'), ('topic', 'NN'), ('sentence', 'NN'), ('.', '.')]\n"
     ]
    }
   ],
   "source": [
    "# POS Tagging for Above Given Paragraph\n",
    "import nltk\n",
    "from nltk.corpus import stopwords\n",
    "from nltk.tokenize import word_tokenize, sent_tokenize\n",
    "stop_words = set(stopwords.words('english'))\n",
    " \n",
    "txt = \"A paragraph is a series of sentences that are organized and coherent, and are all related to a single topic.\" \\\n",
    "    \"Almost every piece of writing you do that is longer than a few sentences should be organized into paragraphs.\" \\\n",
    "    \"This is because paragraphs show a reader where the subdivisions of an essay begin and end, and thus help the reader see the organization of the essay and grasp its main points.\" \\\n",
    "    \"Paragraphs can contain many different kinds of information.\" \\\n",
    "    \"A paragraph could contain a series of brief examples or a single long illustration of a general point.\" \\\n",
    "    \"It might describe a place, character, or process; narrate a series of events; compare or contrast two or more things; classify items into categories; or describe causes and effects.\" \\\n",
    "    \"Regardless of the kind of information they contain, all paragraphs share certain characteristics.\" \\\n",
    "    \"One of the most important of these is a topic sentence.\"\n",
    " \n",
    "# sent_tokenize is one of instances of\n",
    "# PunktSentenceTokenizer from the nltk.tokenize.punkt module\n",
    " \n",
    "tokenized = sent_tokenize(txt)\n",
    "for i in tokenized:\n",
    "     \n",
    "    # Word tokenizers is used to find the words\n",
    "    # and punctuation in a string\n",
    "    wordsList = nltk.word_tokenize(i)\n",
    " \n",
    "    # removing stop words from wordList\n",
    "    wordsList = [w for w in wordsList if not w in stop_words]\n",
    " \n",
    "    #  Using a Tagger. Which is part-of-speech\n",
    "    # tagger or POS-tagger.\n",
    "    tagged = nltk.pos_tag(wordsList)\n",
    " \n",
    "    print(tagged)"
   ]
  }
 ],
 "metadata": {
  "kernelspec": {
   "display_name": "Python 3.10.4 64-bit",
   "language": "python",
   "name": "python3"
  },
  "language_info": {
   "codemirror_mode": {
    "name": "ipython",
    "version": 3
   },
   "file_extension": ".py",
   "mimetype": "text/x-python",
   "name": "python",
   "nbconvert_exporter": "python",
   "pygments_lexer": "ipython3",
   "version": "3.10.4"
  },
  "orig_nbformat": 4,
  "vscode": {
   "interpreter": {
    "hash": "7dda2c1b017c1920d7cbbc2aa5344a88e97f75e1d18b3deb254ad9a2cc7f643d"
   }
  }
 },
 "nbformat": 4,
 "nbformat_minor": 2
}
